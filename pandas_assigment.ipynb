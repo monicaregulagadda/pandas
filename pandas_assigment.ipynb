{
 "cells": [
  {
   "cell_type": "code",
   "execution_count": 2,
   "id": "9b4e18c4-23fb-4251-abd4-13ee40fda326",
   "metadata": {},
   "outputs": [],
   "source": [
    "import pandas as pd\n",
    "import numpy as np"
   ]
  },
  {
   "cell_type": "code",
   "execution_count": 3,
   "id": "c3b8a612-bf9e-4a16-b60c-3fba270682c1",
   "metadata": {},
   "outputs": [
    {
     "name": "stdout",
     "output_type": "stream",
     "text": [
      "18.16590212458495\n"
     ]
    }
   ],
   "source": [
    "#Q1 Compute the euclidean distance between series (points) p and q, without using a packaged formula.\n",
    "# Input\n",
    "p = pd.Series([1, 2, 3, 4, 5, 6, 7, 8, 9, 10])\n",
    "q = pd.Series([10, 9, 8, 7, 6, 5, 4, 3, 2, 1])\n",
    "\n",
    "# Euclidean distance\n",
    "distance = np.sqrt(sum((p - q) ** 2))\n",
    "print(distance)"
   ]
  },
  {
   "cell_type": "code",
   "execution_count": 6,
   "id": "b708e256-0214-49bf-883e-1ede8c5559b5",
   "metadata": {},
   "outputs": [
    {
     "name": "stdout",
     "output_type": "stream",
     "text": [
      "    a   b   c   d   e\n",
      "0   0   1   2   3   4\n",
      "1   5   6   7   8   9\n",
      "2  10  11  12  13  14\n",
      "3  15  16  17  18  19\n",
      "******************* after interchange columns  a and c***************\n",
      "    c   b   a   d   e\n",
      "0   2   1   0   3   4\n",
      "1   7   6   5   8   9\n",
      "2  12  11  10  13  14\n",
      "3  17  16  15  18  19\n"
     ]
    }
   ],
   "source": [
    "#Q2 Change the order of columns of a dataframe. Interchange columns 'a' and 'c'.\n",
    "\n",
    "#input \n",
    "df = pd.DataFrame(np.arange(20).reshape(-1, 5), columns=list('abcde'))\n",
    "print(df)\n",
    "\n",
    "print('******************* after interchange columns  a and c***************')\n",
    "# Interchange columns 'a' and 'c'\n",
    "interchange_columns = df[['c', 'b', 'a', 'd', 'e']]\n",
    "print(interchange_columns)"
   ]
  },
  {
   "cell_type": "code",
   "execution_count": 10,
   "id": "f0deef0f-1eaa-4e92-90fc-e2cdde07ee3c",
   "metadata": {},
   "outputs": [
    {
     "name": "stdout",
     "output_type": "stream",
     "text": [
      "    a   c   b   d   e\n",
      "0   0   2   1   3   4\n",
      "1   5   7   6   8   9\n",
      "2  10  12  11  13  14\n",
      "3  15  17  16  18  19\n"
     ]
    }
   ],
   "source": [
    "#Q3 Change the order of columns of a dataframe.  Create a generic function to interchange two columns, without hardcoding column names.\n",
    "\n",
    "# input\n",
    "df = pd.DataFrame(np.arange(20).reshape(-1, 5), columns=list('abcde'))\n",
    "\n",
    "# function to interchange two columns\n",
    "\n",
    "def interchange_columns(df, col1, col2):\n",
    "    # Get the list of column names\n",
    "    cols = df.columns.tolist()\n",
    "    idx1, idx2 = cols.index(col1), cols.index(col2)\n",
    "    \n",
    "    # Swap the columns\n",
    "    cols[idx1], cols[idx2] = cols[idx2], cols[idx1]\n",
    "    return df[cols]\n",
    "\n",
    "\n",
    "new_df = interchange_columns(df, 'b', 'c')\n",
    "print(new_df)"
   ]
  },
  {
   "cell_type": "code",
   "execution_count": 30,
   "id": "80678151-1115-439c-9184-23b361d4c46e",
   "metadata": {},
   "outputs": [
    {
     "name": "stdout",
     "output_type": "stream",
     "text": [
      "     random\n",
      "0  0.000389\n",
      "1  0.003287\n",
      "2  0.009709\n",
      "3  0.371195\n",
      "********************* after Suppress scientific notations like ‘e-03’ *********************\n",
      "   random\n",
      "0  0.0004\n",
      "1  0.0033\n",
      "2  0.0097\n",
      "3  0.3712\n"
     ]
    }
   ],
   "source": [
    "# Q4 Format or suppress scientific notations in a pandas dataframe. Suppress scientific notations like ‘e-03’ in df and print upto 4 numbers after decimal.\n",
    "\n",
    "#Input \n",
    "\n",
    "df = pd.DataFrame(np.random.random(4)**10, columns=['random'])\n",
    "print(df)\n",
    "\n",
    "print('********************* after Suppress scientific notations like ‘e-03’ *********************')\n",
    "df['random'] = df['random'].round(4)\n",
    "print(df)\n",
    "\n"
   ]
  },
  {
   "cell_type": "code",
   "execution_count": 48,
   "id": "c23f0bc1-97fa-4a4b-acee-9bfbd0f37a4e",
   "metadata": {},
   "outputs": [
    {
     "name": "stdout",
     "output_type": "stream",
     "text": [
      "    p   q   r   s  nearest        dist\n",
      "a  61  80  54  65        3   61.579217\n",
      "b  75  98  15  18        6   86.815897\n",
      "c  95  64  17  64        6   83.600239\n",
      "d  84  92  40  75        0   79.132800\n",
      "e   8  90  65  34        7   84.669947\n",
      "f  31  50  68  83        0   78.147297\n",
      "g  87  70   4  34        2   87.166507\n",
      "h  13  95  27  13        4  100.990099\n",
      "i  16   4  45  13        5   93.413061\n",
      "j  80  54  89  26        0    0.000000\n"
     ]
    }
   ],
   "source": [
    "#Q5 Create a new column that contains the row number of nearest column by euclidean distance. Create a new column such that, \n",
    "#each row contains the row number of nearest row-record by euclidean distance.\n",
    "\n",
    "#input\n",
    "df = pd.DataFrame(np.random.randint(1,100, 40).reshape(10, -1), columns=list('pqrs'), index=list('abcdefghij'))\n",
    "df\n",
    "\n",
    "def find_nearest_row(df):\n",
    "    nearest_indices = []  # List to store the nearest row indices\n",
    "    for i in range(len(df)):\n",
    "        # Calculate the Euclidean distance from row i to all other rows\n",
    "        distances = np.linalg.norm(df.values - df.iloc[i].values, axis=1)\n",
    "        distances[i] = np.inf \n",
    "        nearest_index = np.argmin(distances) \n",
    "        nearest_indices.append(nearest_index)  \n",
    "    return nearest_indices\n",
    "\n",
    "\n",
    "df['nearest'] = find_nearest_row(df)\n",
    "\n",
    "df['dist'] = [np.linalg.norm(df.iloc[i].values - df.iloc[n].values) \n",
    "              for i, n in enumerate(df.index.get_indexer(df['nearest']))]\n",
    "\n",
    "print(df)"
   ]
  },
  {
   "cell_type": "code",
   "execution_count": 49,
   "id": "706d2f97-7b0b-4466-b1f5-ef3cd0512275",
   "metadata": {},
   "outputs": [
    {
     "name": "stdout",
     "output_type": "stream",
     "text": [
      "          A         B         C         D         E\n",
      "A  1.000000  0.291870  0.805883  0.313241  0.434241\n",
      "B  0.291870  1.000000  0.763148  0.363559  0.649558\n",
      "C  0.805883  0.763148  1.000000  0.298576  0.499283\n",
      "D  0.313241  0.363559  0.298576  1.000000  0.720177\n",
      "E  0.434241  0.649558  0.499283  0.720177  1.000000\n"
     ]
    }
   ],
   "source": [
    "#Q6 Correlation is a statistical technique that shows how two variables are related. Pandas dataframe.corr() method is used for creating the correlation matrix. It is used to find the pairwise correlation of all columns in the dataframe. Any na values are automatically excluded. \n",
    "#For any non-numeric data type columns in the dataframe it is ignored.\n",
    "\n",
    "#Input\n",
    "data = {\n",
    "    'A': [145, 37, 0, 42, 50],\n",
    "    'B': [38, 31, 1, 26, 90],\n",
    "    'C': [110, 15, -10, 17, 100],\n",
    "    'D': [60, 99, 15, 23, 56],\n",
    "    'E': [76, 98, -0.03, 78, 90]\n",
    "}\n",
    "\n",
    "df = pd.DataFrame(data)\n",
    "result = df.corr()\n",
    "\n",
    "print(result)"
   ]
  },
  {
   "cell_type": "code",
   "execution_count": null,
   "id": "52312d7c-c133-4321-9290-65660f15cc7a",
   "metadata": {},
   "outputs": [],
   "source": []
  }
 ],
 "metadata": {
  "kernelspec": {
   "display_name": "Python 3 (ipykernel)",
   "language": "python",
   "name": "python3"
  },
  "language_info": {
   "codemirror_mode": {
    "name": "ipython",
    "version": 3
   },
   "file_extension": ".py",
   "mimetype": "text/x-python",
   "name": "python",
   "nbconvert_exporter": "python",
   "pygments_lexer": "ipython3",
   "version": "3.12.5"
  }
 },
 "nbformat": 4,
 "nbformat_minor": 5
}
